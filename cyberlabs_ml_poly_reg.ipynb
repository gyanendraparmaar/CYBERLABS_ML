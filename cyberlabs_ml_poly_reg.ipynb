{
  "nbformat": 4,
  "nbformat_minor": 0,
  "metadata": {
    "colab": {
      "name": "cyberlabs_ml_poly reg.ipynb",
      "provenance": [],
      "collapsed_sections": []
    },
    "kernelspec": {
      "name": "python3",
      "display_name": "Python 3"
    },
    "language_info": {
      "name": "python"
    }
  },
  "cells": [
    {
      "cell_type": "code",
      "execution_count": null,
      "metadata": {
        "id": "AGq7i8txFOFi"
      },
      "outputs": [],
      "source": [
        "##POLYNOMIAL REGRESSSION"
      ]
    },
    {
      "cell_type": "code",
      "source": [
        "from google.colab import drive\n",
        "drive.mount('/content/drive')"
      ],
      "metadata": {
        "colab": {
          "base_uri": "https://localhost:8080/"
        },
        "id": "dIuW507tJ0ec",
        "outputId": "85b82c88-dc5d-42fd-fccc-87fc3bd4f9f8"
      },
      "execution_count": null,
      "outputs": [
        {
          "output_type": "stream",
          "name": "stdout",
          "text": [
            "Mounted at /content/drive\n"
          ]
        }
      ]
    },
    {
      "cell_type": "code",
      "source": [
        "import numpy as np\n",
        "import pandas as pd\n",
        "import matplotlib.pyplot as plt"
      ],
      "metadata": {
        "id": "PMX8DE6WFsuh"
      },
      "execution_count": null,
      "outputs": []
    },
    {
      "cell_type": "code",
      "source": [
        "data = pd.read_csv(\"/content/drive/MyDrive/cyberlabs/Polynomial_train.csv\")"
      ],
      "metadata": {
        "id": "rcd40jTIKc9L"
      },
      "execution_count": null,
      "outputs": []
    },
    {
      "cell_type": "code",
      "source": [
        "data = np.array(data)\n",
        "#data = data[:100,:]\n",
        "print(data.shape)\n",
        "m , n = data.shape  ## n is the number of features and m is the no. of exapmles\n",
        "n = n - 2\n",
        "print(m,n)"
      ],
      "metadata": {
        "colab": {
          "base_uri": "https://localhost:8080/"
        },
        "id": "qGaACWxLKq8W",
        "outputId": "25f38cbf-5d7e-4795-fee1-aeeb5ee98e4e"
      },
      "execution_count": null,
      "outputs": [
        {
          "output_type": "stream",
          "name": "stdout",
          "text": [
            "(50000, 5)\n",
            "50000 3\n"
          ]
        }
      ]
    },
    {
      "cell_type": "code",
      "source": [
        "y = (data[:,n+1:])/100\n",
        "X = (data[:,1:n+1])/100\n",
        "print(X.shape,y.shape)"
      ],
      "metadata": {
        "colab": {
          "base_uri": "https://localhost:8080/"
        },
        "id": "46bxkjBgK5Oi",
        "outputId": "fdcf4a8d-3cf5-4879-f595-3b0421f2cc8e"
      },
      "execution_count": null,
      "outputs": [
        {
          "output_type": "stream",
          "name": "stdout",
          "text": [
            "(50000, 3) (50000, 1)\n"
          ]
        }
      ]
    },
    {
      "cell_type": "code",
      "source": [
        "X_sq = np.multiply(X,X)\n",
        "print(X_sq.shape)"
      ],
      "metadata": {
        "colab": {
          "base_uri": "https://localhost:8080/"
        },
        "id": "TxqEfWbELSoj",
        "outputId": "0c5f15bc-365d-415a-d7e3-4a2c3987e3c4"
      },
      "execution_count": null,
      "outputs": [
        {
          "output_type": "stream",
          "name": "stdout",
          "text": [
            "(50000, 3)\n"
          ]
        }
      ]
    },
    {
      "cell_type": "code",
      "source": [
        "X = np.concatenate((X,X_sq),axis = 1)\n",
        "print(X.shape)\n"
      ],
      "metadata": {
        "colab": {
          "base_uri": "https://localhost:8080/"
        },
        "id": "OJmHA7tVLyLt",
        "outputId": "dcbcc14a-5d46-4942-dc70-ccd46b492fc0"
      },
      "execution_count": null,
      "outputs": [
        {
          "output_type": "stream",
          "name": "stdout",
          "text": [
            "(50000, 6)\n"
          ]
        }
      ]
    },
    {
      "cell_type": "code",
      "source": [
        "z = np.ones((m,1))\n",
        "print(z.shape)"
      ],
      "metadata": {
        "colab": {
          "base_uri": "https://localhost:8080/"
        },
        "id": "vwu8UVbUMQx2",
        "outputId": "9669b3af-577d-494a-e541-b7cfefb9d2d4"
      },
      "execution_count": null,
      "outputs": [
        {
          "output_type": "stream",
          "name": "stdout",
          "text": [
            "(50000, 1)\n"
          ]
        }
      ]
    },
    {
      "cell_type": "code",
      "source": [
        "X = np.concatenate((z,X),axis = 1)\n",
        "print(X.shape)"
      ],
      "metadata": {
        "colab": {
          "base_uri": "https://localhost:8080/"
        },
        "id": "9StdDh0eMizb",
        "outputId": "8ea0a235-d64a-4be9-97e8-fd63e32f9211"
      },
      "execution_count": null,
      "outputs": [
        {
          "output_type": "stream",
          "name": "stdout",
          "text": [
            "(50000, 7)\n"
          ]
        }
      ]
    },
    {
      "cell_type": "code",
      "source": [
        "m,n = X.shape\n",
        "n = n - 1\n",
        "print(m,n)"
      ],
      "metadata": {
        "colab": {
          "base_uri": "https://localhost:8080/"
        },
        "id": "9i_meSeXMmFR",
        "outputId": "c6757369-8011-4212-d339-2a455584fdc5"
      },
      "execution_count": null,
      "outputs": [
        {
          "output_type": "stream",
          "name": "stdout",
          "text": [
            "50000 6\n"
          ]
        }
      ]
    },
    {
      "cell_type": "code",
      "source": [
        "theta = np.zeros((n+1,1))\n",
        "print(theta.shape)"
      ],
      "metadata": {
        "colab": {
          "base_uri": "https://localhost:8080/"
        },
        "id": "6BP4pEvvLIfV",
        "outputId": "8b7f2e75-b7c2-4151-a88b-bf7998ac0fb6"
      },
      "execution_count": null,
      "outputs": [
        {
          "output_type": "stream",
          "name": "stdout",
          "text": [
            "(7, 1)\n"
          ]
        }
      ]
    },
    {
      "cell_type": "code",
      "source": [
        "for i in range(100000) :\n",
        "  h = np.dot(X,theta)\n",
        "  #print(h.shape)\n",
        "  er = (h - y)\n",
        "  delta = (np.dot(X.T,er))/m\n",
        "  theta = theta - 0.0001*delta\n",
        "  J = (1/(2*m))*(np.sum(np.multiply(er,er)))\n",
        "print(J)\n",
        "print(theta)"
      ],
      "metadata": {
        "colab": {
          "base_uri": "https://localhost:8080/"
        },
        "id": "u-IKVCd0MyH2",
        "outputId": "b4654a4a-a42a-49f8-a16d-a50d2a2b9490"
      },
      "execution_count": null,
      "outputs": [
        {
          "output_type": "stream",
          "name": "stdout",
          "text": [
            "72.69661583928686\n",
            "[[ 0.13252918]\n",
            " [ 0.05529705]\n",
            " [-0.00233799]\n",
            " [ 0.01105177]\n",
            " [ 0.01239011]\n",
            " [-0.04249762]\n",
            " [ 0.03715505]]\n"
          ]
        }
      ]
    },
    {
      "cell_type": "code",
      "source": [
        "##TESTING"
      ],
      "metadata": {
        "id": "a1eWmRr1NJ6x"
      },
      "execution_count": null,
      "outputs": []
    },
    {
      "cell_type": "code",
      "source": [
        "##TESTING\n",
        "data_test = pd.read_csv(\"/content/drive/MyDrive/cyberlabs/Polynomial_test.csv\")\n",
        "data_test = np.array(data_test)\n",
        "m_train , n_test = data_test.shape\n",
        "n_test = n_test - 2"
      ],
      "metadata": {
        "id": "fRFKLhR7NMP7"
      },
      "execution_count": null,
      "outputs": []
    },
    {
      "cell_type": "code",
      "source": [
        "y_test = (data_test[:,n_test + 1:])/100\n",
        "X_test = (data_test[:,1:n_test+1])/100\n",
        "print(y_test.shape)\n",
        "print(X_test.shape)"
      ],
      "metadata": {
        "colab": {
          "base_uri": "https://localhost:8080/"
        },
        "id": "dC0yYvv2NY7P",
        "outputId": "2f8d3515-0d60-4cf5-ee97-c3a5b65ff7b5"
      },
      "execution_count": null,
      "outputs": [
        {
          "output_type": "stream",
          "name": "stdout",
          "text": [
            "(10000, 1)\n",
            "(10000, 3)\n"
          ]
        }
      ]
    },
    {
      "cell_type": "code",
      "source": [
        "X_sq_test = np.multiply(X_test,X_test)\n",
        "print(X_sq_test.shape)"
      ],
      "metadata": {
        "colab": {
          "base_uri": "https://localhost:8080/"
        },
        "id": "SNC75vl3Nl-L",
        "outputId": "26dd414b-6fc4-4765-ab62-cb35681597c0"
      },
      "execution_count": null,
      "outputs": [
        {
          "output_type": "stream",
          "name": "stdout",
          "text": [
            "(10000, 3)\n"
          ]
        }
      ]
    },
    {
      "cell_type": "code",
      "source": [
        "X_test = np.concatenate((X_test,X_sq_test),axis = 1)\n",
        "print(X_test.shape)"
      ],
      "metadata": {
        "colab": {
          "base_uri": "https://localhost:8080/"
        },
        "id": "q16QqiMbWyVO",
        "outputId": "66f09fa4-91e7-4a7c-f403-b9f8adee3e7c"
      },
      "execution_count": null,
      "outputs": [
        {
          "output_type": "stream",
          "name": "stdout",
          "text": [
            "(10000, 6)\n"
          ]
        }
      ]
    },
    {
      "cell_type": "code",
      "source": [
        "z = np.ones((m_train,1))\n",
        "print(z.shape)"
      ],
      "metadata": {
        "colab": {
          "base_uri": "https://localhost:8080/"
        },
        "id": "lbhNSW2eYXip",
        "outputId": "9bdc827e-1097-40e6-9d9c-e1eff9d3af01"
      },
      "execution_count": null,
      "outputs": [
        {
          "output_type": "stream",
          "name": "stdout",
          "text": [
            "(10000, 1)\n"
          ]
        }
      ]
    },
    {
      "cell_type": "code",
      "source": [
        "X_test = np.concatenate((z,X_test),axis = 1)\n",
        "print(X_test.shape)"
      ],
      "metadata": {
        "colab": {
          "base_uri": "https://localhost:8080/"
        },
        "id": "6OQeh72EW-_G",
        "outputId": "a353b48a-f62c-495e-ac4c-22e0f7b705ab"
      },
      "execution_count": null,
      "outputs": [
        {
          "output_type": "stream",
          "name": "stdout",
          "text": [
            "(10000, 7)\n"
          ]
        }
      ]
    },
    {
      "cell_type": "code",
      "source": [
        "h_test = np.dot(X_test,theta)\n",
        "err = h_test - y_test\n",
        "print(h_test[:10,:])\n",
        "print(y_test[:10,:])\n",
        "J = (1/(2*10000))*(np.sum(np.multiply(err,err)))\n",
        "print(J)\n",
        "sq_error = np.sum(err**2)\n",
        "rmse = np.sqrt(sq_error/10000)\n",
        "print()\n",
        "print('RMSE = ',rmse)"
      ],
      "metadata": {
        "colab": {
          "base_uri": "https://localhost:8080/"
        },
        "id": "9KiNnjs8XQqH",
        "outputId": "7da750ad-8454-4db3-c4f0-5b448bf5207a"
      },
      "execution_count": null,
      "outputs": [
        {
          "output_type": "stream",
          "name": "stdout",
          "text": [
            "[[0.1385758 ]\n",
            " [0.13465248]\n",
            " [0.13003545]\n",
            " [0.12867532]\n",
            " [0.13423511]\n",
            " [0.1344819 ]\n",
            " [0.13345494]\n",
            " [0.13264015]\n",
            " [0.13633164]\n",
            " [0.13328927]]\n",
            "[[ -6.57669309]\n",
            " [ -5.45362524]\n",
            " [ -0.75044187]\n",
            " [-24.03124902]\n",
            " [  0.08595325]\n",
            " [ 20.35462985]\n",
            " [  4.63962554]\n",
            " [  0.18406812]\n",
            " [ -2.99765366]\n",
            " [  1.73285123]]\n",
            "72.68942077222432\n",
            "\n",
            "RMSE =  12.057314856320566\n"
          ]
        }
      ]
    }
  ]
}