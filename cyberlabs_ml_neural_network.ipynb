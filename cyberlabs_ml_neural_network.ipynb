{
  "cells": [
    {
      "cell_type": "code",
      "execution_count": null,
      "metadata": {
        "colab": {
          "base_uri": "https://localhost:8080/"
        },
        "id": "edYavfc7xrBW",
        "outputId": "fcc1c6ad-0fc9-42a8-f322-a722013ea0dd"
      },
      "outputs": [
        {
          "name": "stdout",
          "output_type": "stream",
          "text": [
            "Mounted at /content/drive\n"
          ]
        }
      ],
      "source": [
        "from google.colab import drive\n",
        "drive.mount('/content/drive')"
      ]
    },
    {
      "cell_type": "code",
      "execution_count": null,
      "metadata": {
        "id": "umYO_NJs19I_"
      },
      "outputs": [],
      "source": [
        "import numpy as np\n",
        "import pandas as pd\n",
        "import matplotlib.pyplot as plt"
      ]
    },
    {
      "cell_type": "code",
      "execution_count": null,
      "metadata": {
        "id": "U_IZ-wCJLuEf"
      },
      "outputs": [],
      "source": [
        "#NO. OF UNITS IN HIDDEN LAYER = 52\n",
        "\n",
        "#X  = (88799, 784)\n",
        "#W1 = (784,52)\n",
        "#B1 = (88799,52)\n",
        "#Z1 = (88799,52)\n",
        "\n",
        "#A1 = (88799,52)\n",
        "#W2 = (52,26)\n",
        "#B2 = (88799,26)\n",
        "#Z2 = (88799,26)\n",
        "\n",
        "#A2 = (88799,26)\n",
        "\n",
        "#Z1 = X.W1  + B1\n",
        "#A1 = sigmoid(Z1)\n",
        "#Z2 = A1.W2 + B2"
      ]
    },
    {
      "cell_type": "code",
      "source": [
        "class NeuralNetwork(object):\n",
        "    def __init__(self):\n",
        "        #parameters\n",
        "        self.inputSize = 784\n",
        "        self.outputSize = 26\n",
        "        self.hiddenSize = 52\n",
        "        \n",
        "        #weights\n",
        "        self.W1 = np.random.randn(self.inputSize, self.hiddenSize) \n",
        "        self.W2 = np.random.randn(self.hiddenSize, self.outputSize) \n",
        "\n",
        "        #biases\n",
        "        self.b1 = np.random.randn(m,self.hiddenSize)\n",
        "        self.b2 = np.random.randn(m,self.outputSize)\n",
        "        \n",
        "    def feedForward(self, X):\n",
        "        self.z1 = np.dot(X, self.W1) + self.b1\n",
        "        self.a1 = self.sigmoid(self.z1)\n",
        "        self.z2 = np.dot(self.a1, self.W2) + self.b2\n",
        "        output = self.sigmoid(self.z2)\n",
        "        return output\n",
        "        \n",
        "    def sigmoid(self, s, deriv=False):\n",
        "        if (deriv == True):\n",
        "            return s * (1 - s)\n",
        "        return 1/(1 + np.exp(-s))\n",
        "    \n",
        "    def backward(self, X, y, output):\n",
        "        #backward propogate through the network\n",
        "        self.output_error = y - output # error in output\n",
        "        self.output_delta = self.output_error * self.sigmoid(output, deriv=True)\n",
        "        \n",
        "        self.a1_error = self.output_delta.dot(self.W2.T) \n",
        "        self.a1_delta = self.a1_error * self.sigmoid(self.a1, deriv=True) \n",
        "        \n",
        "        self.W1 += X.T.dot(self.a1_delta) # adjusting first set (input -> hidden) weights\n",
        "        self.W2 += self.a1.T.dot(self.output_delta) # adjusting second set (hidden -> output) weights\n",
        "        \n",
        "    def train(self, X, y):\n",
        "        output = self.feedForward(X)\n",
        "        self.backward(X, y, output)"
      ],
      "metadata": {
        "id": "3gD9YqM3WuoB"
      },
      "execution_count": 33,
      "outputs": []
    },
    {
      "cell_type": "code",
      "execution_count": null,
      "metadata": {
        "id": "SlZXkJmG2hY2"
      },
      "outputs": [],
      "source": [
        "data = pd.read_csv(\"/content/drive/MyDrive/cyberlabs/emnist-letters-train.csv\")"
      ]
    },
    {
      "cell_type": "code",
      "execution_count": 35,
      "metadata": {
        "colab": {
          "base_uri": "https://localhost:8080/"
        },
        "id": "5YsB29Ih2cs8",
        "outputId": "77ad1097-93b5-4838-941f-92f85ddd4c86"
      },
      "outputs": [
        {
          "output_type": "stream",
          "name": "stdout",
          "text": [
            "88799 784\n",
            "(88799, 784) (88799, 1) (88799, 52)\n"
          ]
        }
      ],
      "source": [
        "data = np.array(data)\n",
        "m , n = data.shape  ## n is the number of features and m is the no. of exapmles\n",
        "n = n - 1\n",
        "print(m,n)\n",
        "y = (data[:,:1])\n",
        "X = (data[:,1:])\n",
        "\n",
        "print(X.shape,y.shape,B1.shape)"
      ]
    },
    {
      "cell_type": "code",
      "execution_count": 36,
      "metadata": {
        "colab": {
          "base_uri": "https://localhost:8080/"
        },
        "id": "IuNIs_zAwAja",
        "outputId": "b06586d9-7505-4fda-a1c8-becd4f092773"
      },
      "outputs": [
        {
          "output_type": "stream",
          "name": "stdout",
          "text": [
            "(88799, 26)\n"
          ]
        }
      ],
      "source": [
        "y_temp = np.zeros((m,26))\n",
        "print(y_temp.shape)"
      ]
    },
    {
      "cell_type": "code",
      "execution_count": 37,
      "metadata": {
        "colab": {
          "base_uri": "https://localhost:8080/"
        },
        "id": "eWPpaBSXG96G",
        "outputId": "9d400a1a-2243-4784-db6b-51c989aec735"
      },
      "outputs": [
        {
          "output_type": "stream",
          "name": "stdout",
          "text": [
            "(88799, 26)\n"
          ]
        }
      ],
      "source": [
        "for i in range(m):\n",
        "  y_temp[i][(y[i][0])-1] = 1\n",
        "print(y_temp.shape)"
      ]
    },
    {
      "cell_type": "code",
      "source": [
        "err = A2 - y_temp\n",
        "sq_err = err**2\n",
        "print(np.sum(sq_err)/m)"
      ],
      "metadata": {
        "colab": {
          "base_uri": "https://localhost:8080/"
        },
        "id": "ufFP5bjq2Uxc",
        "outputId": "55f3e333-3e71-46b4-ebba-95c1531d2b93"
      },
      "execution_count": 38,
      "outputs": [
        {
          "output_type": "stream",
          "name": "stdout",
          "text": [
            "6.5\n"
          ]
        }
      ]
    },
    {
      "cell_type": "code",
      "source": [
        ""
      ],
      "metadata": {
        "id": "xZ_BOGVuWuK-"
      },
      "execution_count": null,
      "outputs": []
    },
    {
      "cell_type": "code",
      "source": [
        "NN = NeuralNetwork()\n",
        "\n",
        "for i in range(100): \n",
        "    NN.train(X, y_temp)\n",
        "\n",
        "err = y - NN.feedForward(X)\n",
        "sq_error = np.sum(err**2)\n",
        "rmse = np.sqrt(sq_error/88799)\n",
        "print(\"RMSE = \",rmse)"
      ],
      "metadata": {
        "colab": {
          "base_uri": "https://localhost:8080/"
        },
        "id": "jSz5MhiiY8Ym",
        "outputId": "ac5fcced-2d1c-4c9b-9eed-86f9468f8bc6"
      },
      "execution_count": 42,
      "outputs": [
        {
          "output_type": "stream",
          "name": "stderr",
          "text": [
            "/usr/local/lib/python3.7/dist-packages/ipykernel_launcher.py:26: RuntimeWarning: overflow encountered in exp\n"
          ]
        },
        {
          "output_type": "stream",
          "name": "stdout",
          "text": [
            "RMSE =  78.83893630769798\n"
          ]
        }
      ]
    }
  ],
  "metadata": {
    "colab": {
      "name": "cyberlabs_ml_neural_network.ipynb",
      "provenance": []
    },
    "kernelspec": {
      "display_name": "Python 3",
      "name": "python3"
    },
    "language_info": {
      "name": "python"
    }
  },
  "nbformat": 4,
  "nbformat_minor": 0
}