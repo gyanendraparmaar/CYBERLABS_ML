{
  "nbformat": 4,
  "nbformat_minor": 0,
  "metadata": {
    "colab": {
      "name": "cyberlabs_ml_linear_reg.ipynb",
      "provenance": [],
      "collapsed_sections": []
    },
    "kernelspec": {
      "name": "python3",
      "display_name": "Python 3"
    },
    "language_info": {
      "name": "python"
    }
  },
  "cells": [
    {
      "cell_type": "markdown",
      "source": [
        "**IMPORT LIABRARIES**\n",
        "We have to import certain libraries to work with matrices"
      ],
      "metadata": {
        "id": "s3DNaiz_7Vh3"
      }
    },
    {
      "cell_type": "code",
      "source": [
        "from google.colab import drive\n",
        "drive.mount('/content/drive')"
      ],
      "metadata": {
        "id": "pMnNhIx6khAa",
        "colab": {
          "base_uri": "https://localhost:8080/"
        },
        "outputId": "dfc468a4-9b73-4dfd-ea88-ad1c0d8737e0"
      },
      "execution_count": null,
      "outputs": [
        {
          "output_type": "stream",
          "name": "stdout",
          "text": [
            "Drive already mounted at /content/drive; to attempt to forcibly remount, call drive.mount(\"/content/drive\", force_remount=True).\n"
          ]
        }
      ]
    },
    {
      "cell_type": "code",
      "execution_count": null,
      "metadata": {
        "id": "FJtlPOM15b46"
      },
      "outputs": [],
      "source": [
        "import numpy as np\n",
        "import pandas as pd\n",
        "import matplotlib.pyplot as plt"
      ]
    },
    {
      "cell_type": "markdown",
      "source": [
        ""
      ],
      "metadata": {
        "id": "om1TxBGM7T6L"
      }
    },
    {
      "cell_type": "code",
      "source": [
        "data = pd.read_csv(\"/content/drive/MyDrive/cyberlabs/Linear_train.csv\")"
      ],
      "metadata": {
        "id": "qWOE-U0L-rFZ"
      },
      "execution_count": null,
      "outputs": []
    },
    {
      "cell_type": "code",
      "source": [
        "data = np.array(data)\n",
        "#data = data[:100,:]\n",
        "print(data.shape)\n",
        "m , n = data.shape  ## n is the number of features and m is the no. of exapmles\n",
        "n = n - 2\n",
        "print(m,n)"
      ],
      "metadata": {
        "id": "bvl2SDig_aaE",
        "colab": {
          "base_uri": "https://localhost:8080/"
        },
        "outputId": "ae0e88d8-1f7a-4c72-bf9e-e5c8deef289b"
      },
      "execution_count": null,
      "outputs": [
        {
          "output_type": "stream",
          "name": "stdout",
          "text": [
            "(50000, 22)\n",
            "50000 20\n"
          ]
        }
      ]
    },
    {
      "cell_type": "code",
      "source": [
        "y = (data[:,n+1:])/100\n",
        "X = (data[:,1:n+1])/100\n",
        "\n",
        "print(X.shape,y.shape)"
      ],
      "metadata": {
        "colab": {
          "base_uri": "https://localhost:8080/"
        },
        "id": "rQC5tp5Tppc9",
        "outputId": "8a29006d-e245-4d5b-a2a0-5a63d4893270"
      },
      "execution_count": null,
      "outputs": [
        {
          "output_type": "stream",
          "name": "stdout",
          "text": [
            "(50000, 20) (50000, 1)\n"
          ]
        }
      ]
    },
    {
      "cell_type": "code",
      "source": [
        "z = np.ones((m,1))\n",
        "print(z.shape)"
      ],
      "metadata": {
        "colab": {
          "base_uri": "https://localhost:8080/"
        },
        "id": "gqA5_zMzrAMy",
        "outputId": "5226ccc9-f862-44e5-a48b-4cb106fd6370"
      },
      "execution_count": null,
      "outputs": [
        {
          "output_type": "stream",
          "name": "stdout",
          "text": [
            "(50000, 1)\n"
          ]
        }
      ]
    },
    {
      "cell_type": "code",
      "source": [
        "X = np.concatenate((z,X),axis = 1)\n",
        "print(X.shape)"
      ],
      "metadata": {
        "colab": {
          "base_uri": "https://localhost:8080/"
        },
        "id": "9YCbnB4_rWUw",
        "outputId": "c9933b14-9479-45f7-a261-832f94d26264"
      },
      "execution_count": null,
      "outputs": [
        {
          "output_type": "stream",
          "name": "stdout",
          "text": [
            "(50000, 21)\n"
          ]
        }
      ]
    },
    {
      "cell_type": "code",
      "source": [
        "theta = np.zeros((n+1,1))\n",
        "print(theta.shape)"
      ],
      "metadata": {
        "id": "dhUhoaUkpsTs",
        "colab": {
          "base_uri": "https://localhost:8080/"
        },
        "outputId": "c66ae33e-f0e3-484e-9a7e-34139906b188"
      },
      "execution_count": null,
      "outputs": [
        {
          "output_type": "stream",
          "name": "stdout",
          "text": [
            "(21, 1)\n"
          ]
        }
      ]
    },
    {
      "cell_type": "code",
      "source": [
        "from os import error\n",
        "for i in range(100000) :\n",
        "  cost = []\n",
        "  h = np.dot(X,theta)\n",
        "  #print(h.shape)\n",
        "  error = (h - y)\n",
        "  delta = (np.dot(X.T,error))/m\n",
        "  theta = theta - 0.0001*delta\n",
        "  J = (1/(2*m))*(np.sum(np.multiply(error,error)))\n",
        "  cost.append(J)\n",
        "print(J)\n",
        "print(theta)"
      ],
      "metadata": {
        "id": "-GKNZ9SGwYbb",
        "colab": {
          "base_uri": "https://localhost:8080/"
        },
        "outputId": "e0b3ca84-2bf8-408f-eab7-feeb0cf67302"
      },
      "execution_count": null,
      "outputs": [
        {
          "output_type": "stream",
          "name": "stdout",
          "text": [
            "230.90387742969273\n",
            "[[  0.10179593]\n",
            " [  7.53193281]\n",
            " [  0.16749112]\n",
            " [-14.9416791 ]\n",
            " [  4.08785808]\n",
            " [ 21.28519702]\n",
            " [  0.1685332 ]\n",
            " [ 10.52936935]\n",
            " [-16.39762929]\n",
            " [  0.11515916]\n",
            " [ 12.63651745]\n",
            " [ 17.98510135]\n",
            " [  0.59994378]\n",
            " [-51.57424917]\n",
            " [ 19.06124584]\n",
            " [ 25.4578591 ]\n",
            " [ 28.6367254 ]\n",
            " [ 13.3860048 ]\n",
            " [ -0.538627  ]\n",
            " [ 53.7385649 ]\n",
            " [ 13.84027229]]\n"
          ]
        }
      ]
    },
    {
      "cell_type": "code",
      "source": [
        "##TESTING\n",
        "data_test = pd.read_csv(\"/content/drive/MyDrive/cyberlabs/Linear_test.csv\")\n",
        "data_test = np.array(data_test)"
      ],
      "metadata": {
        "id": "ZTvhl3jsex-i"
      },
      "execution_count": null,
      "outputs": []
    },
    {
      "cell_type": "code",
      "source": [
        "y_test = (data_test[:,n+1:])/100\n",
        "X_test = (data_test[:,1:n+1])/100\n",
        "z_test = np.ones((10000,1))\n",
        "X_test = np.concatenate((z_test,X_test),axis = 1)\n",
        "print(y_test.shape)\n",
        "print(X_test.shape)"
      ],
      "metadata": {
        "colab": {
          "base_uri": "https://localhost:8080/"
        },
        "id": "7vu7IJVofCeC",
        "outputId": "e3c5bf72-08ac-4f62-bbee-30d2d1c8f86d"
      },
      "execution_count": null,
      "outputs": [
        {
          "output_type": "stream",
          "name": "stdout",
          "text": [
            "(10000, 1)\n",
            "(10000, 21)\n"
          ]
        }
      ]
    },
    {
      "cell_type": "code",
      "source": [
        "h_test = np.dot(X_test,theta)\n",
        "err = h_test - y_test\n",
        "sq_err = np.sum(err**2)\n",
        "rmse = np.sqrt(sq_err/10000)\n",
        "print(\"RMSE = \",rmse)\n",
        "print()\n",
        "print(h_test[:10,:])\n",
        "print(y_test[:10,:])\n",
        "J = (1/(2*data_test.shape[0]))*(np.sum(np.multiply(err,err)))\n",
        "print(J)"
      ],
      "metadata": {
        "colab": {
          "base_uri": "https://localhost:8080/"
        },
        "id": "__l8UhYNfgxQ",
        "outputId": "319241ed-358f-459f-ac70-dd808c0c7382"
      },
      "execution_count": null,
      "outputs": [
        {
          "output_type": "stream",
          "name": "stdout",
          "text": [
            "RMSE =  21.385119406271443\n",
            "\n",
            "[[  6.10547044]\n",
            " [ 43.19271867]\n",
            " [ 20.64315026]\n",
            " [-45.1624191 ]\n",
            " [ 65.05094944]\n",
            " [ 24.72301573]\n",
            " [-12.96325431]\n",
            " [ 29.7329867 ]\n",
            " [ 21.20308353]\n",
            " [ 46.13757635]]\n",
            "[[ -1.63522723]\n",
            " [ 64.8466451 ]\n",
            " [ 23.93818082]\n",
            " [-93.97072355]\n",
            " [104.87323575]\n",
            " [ 32.56252062]\n",
            " [-35.45455997]\n",
            " [ 41.02718685]\n",
            " [ 27.65424504]\n",
            " [ 72.3403361 ]]\n",
            "228.66166601024375\n"
          ]
        }
      ]
    },
    {
      "cell_type": "code",
      "source": [
        "##CONCEPT OF RMSE\n",
        "arr1 = np.array([1,2,3,4,5])\n",
        "arr2 = np.array([1,8,3,6,5])\n",
        "sqr_error = (arr1 - arr2)**2\n",
        "sqr_error = np.sum(sqr_error)\n",
        "rmse = np.sqrt(sqr_error/5)\n",
        "print(rmse)"
      ],
      "metadata": {
        "colab": {
          "base_uri": "https://localhost:8080/"
        },
        "id": "4pyEHUDgHQx1",
        "outputId": "b871fadc-2a3d-4119-c9c8-a792dabb18f7"
      },
      "execution_count": null,
      "outputs": [
        {
          "output_type": "stream",
          "name": "stdout",
          "text": [
            "2.8284271247461903\n"
          ]
        }
      ]
    }
  ]
}