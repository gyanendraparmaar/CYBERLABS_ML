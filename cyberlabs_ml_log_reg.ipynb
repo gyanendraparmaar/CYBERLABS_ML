{
  "cells": [
    {
      "cell_type": "code",
      "execution_count": null,
      "metadata": {
        "id": "VeG8Nf2LYPGT"
      },
      "outputs": [],
      "source": [
        "import numpy as np\n",
        "import pandas as pd\n",
        "import matplotlib.pyplot as plt\n",
        "import math "
      ]
    },
    {
      "cell_type": "code",
      "execution_count": null,
      "metadata": {
        "id": "hx0DGbp1eXo2"
      },
      "outputs": [],
      "source": [
        "def sigmoid(a):\n",
        "  return 1/(1+np.exp(-1*a))\n",
        "def numpy_log(a):\n",
        "  return(math.log(a[0]))"
      ]
    },
    {
      "cell_type": "code",
      "execution_count": null,
      "metadata": {
        "id": "JmBew5XxYdKU"
      },
      "outputs": [],
      "source": [
        "data = pd.read_csv(\"/content/drive/MyDrive/cyberlabs/emnist-letters-train.csv\")"
      ]
    },
    {
      "cell_type": "code",
      "execution_count": null,
      "metadata": {
        "colab": {
          "base_uri": "https://localhost:8080/"
        },
        "id": "JVsuWyXtZHG_",
        "outputId": "fcd0b24c-302c-4c5b-f66d-6d333dce3afd"
      },
      "outputs": [
        {
          "output_type": "stream",
          "name": "stdout",
          "text": [
            "(88799, 785)\n",
            "88799 783\n"
          ]
        }
      ],
      "source": [
        "data = np.array(data)\n",
        "#data = data[:100,:]\n",
        "print(data.shape)\n",
        "m , n = data.shape  ## n is the number of features and m is the no. of exapmles\n",
        "n = n - 2\n",
        "print(m,n)"
      ]
    },
    {
      "cell_type": "code",
      "execution_count": null,
      "metadata": {
        "colab": {
          "base_uri": "https://localhost:8080/"
        },
        "id": "mkXOE3fUZUt7",
        "outputId": "a5debca0-ca11-4c08-8c20-09e89407465e"
      },
      "outputs": [
        {
          "output_type": "stream",
          "name": "stdout",
          "text": [
            "(88799, 784) (88799, 1)\n"
          ]
        }
      ],
      "source": [
        "y = (data[:,:1])/100\n",
        "X = (data[:,1:])/100\n",
        "print(X.shape,y.shape)"
      ]
    },
    {
      "cell_type": "code",
      "execution_count": null,
      "metadata": {
        "colab": {
          "base_uri": "https://localhost:8080/"
        },
        "id": "ukHL3-wOaGUe",
        "outputId": "fa650cf4-aa7c-485d-fc1b-88513aeb7650"
      },
      "outputs": [
        {
          "output_type": "stream",
          "name": "stdout",
          "text": [
            "(88799, 1)\n"
          ]
        }
      ],
      "source": [
        "z = np.ones((m,1))\n",
        "print(z.shape)"
      ]
    },
    {
      "cell_type": "code",
      "execution_count": null,
      "metadata": {
        "colab": {
          "base_uri": "https://localhost:8080/"
        },
        "id": "5D2mwqwCaM6k",
        "outputId": "e47f71dc-8134-44d8-e951-f6c7bdb92255"
      },
      "outputs": [
        {
          "output_type": "stream",
          "name": "stdout",
          "text": [
            "(88799, 785)\n"
          ]
        }
      ],
      "source": [
        "X = np.concatenate((z,X),axis = 1)\n",
        "print(X.shape)"
      ]
    },
    {
      "cell_type": "code",
      "execution_count": null,
      "metadata": {
        "colab": {
          "base_uri": "https://localhost:8080/"
        },
        "id": "PAf13wSraTdD",
        "outputId": "c0fc6fda-cfcd-4578-a1e2-821ab87d3306"
      },
      "outputs": [
        {
          "output_type": "stream",
          "name": "stdout",
          "text": [
            "(785, 1)\n"
          ]
        }
      ],
      "source": [
        "theta = np.zeros((n+2,1))\n",
        "print(theta.shape)"
      ]
    },
    {
      "cell_type": "code",
      "execution_count": null,
      "metadata": {
        "colab": {
          "base_uri": "https://localhost:8080/"
        },
        "id": "Qx-mLxS5aZz4",
        "outputId": "283cee48-3958-4487-a8e3-63952d965b04"
      },
      "outputs": [
        {
          "output_type": "stream",
          "name": "stdout",
          "text": [
            "0\n",
            "100\n",
            "200\n",
            "300\n",
            "400\n",
            "500\n",
            "600\n",
            "700\n",
            "800\n",
            "900\n",
            "[[-0.00176517]\n",
            " [-0.00248808]\n",
            " [-0.00315933]\n",
            " [-0.0037769 ]\n",
            " [-0.0043009 ]\n",
            " [-0.00478975]\n",
            " [-0.00516152]\n",
            " [-0.0053494 ]\n",
            " [-0.00513646]\n",
            " [-0.00460037]]\n"
          ]
        }
      ],
      "source": [
        "from os import error\n",
        "for i in range(1000) :\n",
        "  h = np.dot(X,theta)\n",
        "  h = sigmoid(h)\n",
        "  #print(h)\n",
        "  if i%100 == 0:\n",
        "    print(i)\n",
        "  error = (h - y)\n",
        "  delta = (np.dot(X.T,error))/m\n",
        "  theta = theta - 0.0001*delta\n",
        "  #J = (1/m)*(np.sum(y*l+(1-y)*l1))\n",
        "#print(J)\n",
        "print(theta[123:133][:])"
      ]
    },
    {
      "cell_type": "code",
      "source": [
        "##TESTING"
      ],
      "metadata": {
        "id": "bjhgd3sjJUvV"
      },
      "execution_count": null,
      "outputs": []
    },
    {
      "cell_type": "code",
      "source": [
        "data_test = pd.read_csv(\"/content/drive/MyDrive/cyberlabs/emnist-letters-test.csv\")"
      ],
      "metadata": {
        "id": "qIAZY2TAHfvH"
      },
      "execution_count": null,
      "outputs": []
    },
    {
      "cell_type": "code",
      "source": [
        "data_test = np.array(data_test)\n",
        "#data = data[:100,:]\n",
        "print(data_test.shape)\n",
        "m_test , n_test = data_test.shape  ## n is the number of features and m is the no. of exapmles\n",
        "n_test = n_test - 2\n",
        "print(m_test,n_test)"
      ],
      "metadata": {
        "colab": {
          "base_uri": "https://localhost:8080/"
        },
        "id": "o8IkJdfnHpMn",
        "outputId": "725954b4-854f-4858-81cd-a708f3d25508"
      },
      "execution_count": null,
      "outputs": [
        {
          "output_type": "stream",
          "name": "stdout",
          "text": [
            "(14799, 785)\n",
            "14799 783\n"
          ]
        }
      ]
    },
    {
      "cell_type": "code",
      "source": [
        "y_test = (data_test[:,:1])/100\n",
        "X_test = (data_test[:,1:])/100\n",
        "print(X_test.shape,y_test.shape)"
      ],
      "metadata": {
        "colab": {
          "base_uri": "https://localhost:8080/"
        },
        "id": "4xfHaq--IxMN",
        "outputId": "12e5d2cb-263d-419d-828a-21860c256c2a"
      },
      "execution_count": null,
      "outputs": [
        {
          "output_type": "stream",
          "name": "stdout",
          "text": [
            "(14799, 784) (14799, 1)\n"
          ]
        }
      ]
    },
    {
      "cell_type": "code",
      "source": [
        "z_test = np.ones((m_test,1))\n",
        "print(z_test.shape)"
      ],
      "metadata": {
        "colab": {
          "base_uri": "https://localhost:8080/"
        },
        "id": "oTxj9uS1I9BX",
        "outputId": "2511e540-66cf-443d-e217-e6d015b8fe9b"
      },
      "execution_count": null,
      "outputs": [
        {
          "output_type": "stream",
          "name": "stdout",
          "text": [
            "(14799, 1)\n"
          ]
        }
      ]
    },
    {
      "cell_type": "code",
      "source": [
        "X_test = np.concatenate((z_test,X_test),axis = 1)\n",
        "print(X_test.shape)"
      ],
      "metadata": {
        "colab": {
          "base_uri": "https://localhost:8080/"
        },
        "id": "KUVRjcsCJFqM",
        "outputId": "2f3e27f9-5095-4376-a951-beb2b86985f5"
      },
      "execution_count": null,
      "outputs": [
        {
          "output_type": "stream",
          "name": "stdout",
          "text": [
            "(14799, 785)\n"
          ]
        }
      ]
    },
    {
      "cell_type": "code",
      "source": [
        "theta_test = np.zeros((n+2,1))\n",
        "print(theta_test.shape)"
      ],
      "metadata": {
        "colab": {
          "base_uri": "https://localhost:8080/"
        },
        "id": "OGT6ZX6fJM97",
        "outputId": "6c6822fc-525f-4a49-b129-652ff1f2f177"
      },
      "execution_count": null,
      "outputs": [
        {
          "output_type": "stream",
          "name": "stdout",
          "text": [
            "(785, 1)\n"
          ]
        }
      ]
    },
    {
      "cell_type": "code",
      "source": [
        "h_test = np.dot(X_test,theta_test)\n",
        "h_test = sigmoid(h_test)\n",
        "#print(h)\n",
        "#print(i)\n",
        "\n",
        "error_test = (h_test - y_test)\n",
        "sq_error = np.sum(error_test**2)\n",
        "rmse = np.sqrt(sq_error/88799)\n",
        "print(\"RMSE = \",rmse)\n",
        " \n",
        "#J = (1/m)*(np.sum(y*l+(1-y)*l1))\n",
        "#print(J)\n",
        "#print(np.shape(theta))"
      ],
      "metadata": {
        "id": "L8gXcQhEKGwl",
        "colab": {
          "base_uri": "https://localhost:8080/"
        },
        "outputId": "92e22eff-41f9-458f-a3bb-a8e8b8d10178"
      },
      "execution_count": null,
      "outputs": [
        {
          "output_type": "stream",
          "name": "stdout",
          "text": [
            "RMSE =  0.16572755801842665\n"
          ]
        }
      ]
    }
  ],
  "metadata": {
    "colab": {
      "name": "cyberlabs_ml_log_reg.ipynb",
      "provenance": [],
      "collapsed_sections": []
    },
    "kernelspec": {
      "display_name": "Python 3",
      "name": "python3"
    },
    "language_info": {
      "name": "python"
    }
  },
  "nbformat": 4,
  "nbformat_minor": 0
}