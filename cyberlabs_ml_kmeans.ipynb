{
  "nbformat": 4,
  "nbformat_minor": 0,
  "metadata": {
    "colab": {
      "name": "cyberlabs_ml_kmeans.ipynb",
      "provenance": []
    },
    "kernelspec": {
      "name": "python3",
      "display_name": "Python 3"
    },
    "language_info": {
      "name": "python"
    }
  },
  "cells": [
    {
      "cell_type": "code",
      "execution_count": null,
      "metadata": {
        "colab": {
          "base_uri": "https://localhost:8080/"
        },
        "id": "FsSyMsAs1Yk3",
        "outputId": "f65c86c5-fc3c-474c-c104-77e5b6323232"
      },
      "outputs": [
        {
          "output_type": "stream",
          "name": "stdout",
          "text": [
            "Mounted at /content/drive\n"
          ]
        }
      ],
      "source": [
        "from google.colab import drive\n",
        "drive.mount('/content/drive')"
      ]
    },
    {
      "cell_type": "code",
      "source": [
        "import numpy as np\n",
        "import pandas as pd\n",
        "import matplotlib.pyplot as plt\n",
        "from collections import Counter"
      ],
      "metadata": {
        "id": "LWleJzRD1_XQ"
      },
      "execution_count": null,
      "outputs": []
    },
    {
      "cell_type": "code",
      "source": [
        "def euclidean_distance(x1,x2):\n",
        "  return np.sqrt(np.sum((x1-x2)**2))"
      ],
      "metadata": {
        "id": "cgR1fTo42hZa"
      },
      "execution_count": null,
      "outputs": []
    },
    {
      "cell_type": "code",
      "source": [
        "class KMeans :\n",
        "  def __init__(self, K=5, max_iters=100, plot_steps=False):\n",
        "    self.K = K\n",
        "    self.max_iters = max_iters\n",
        "    self.plot_steps = plot_steps\n",
        "    \n",
        "\n",
        "    #sample indeces for each cluster\n",
        "    self.clusters = [[] for i in range(self.K)]\n",
        "    #centroids \n",
        "    self.centroids = []\n",
        "  \n",
        "  def train(self,X):\n",
        "    self.X = X\n",
        "    self.n_samples, self.n_features = X.shape\n",
        "\n",
        "    #initialize centroids\n",
        "    random_sample_idxs = np.random.choice(self.n_samples, self.K, replace = False)\n",
        "    self.centroids = [self.X[idx] for idx in random_sample_idxs]\n",
        "\n",
        "    #optimize\n",
        "    for i in range(self.max_iters):\n",
        "      #update clusters\n",
        "      self.clusters = self.create_clusters(self.centroids)\n",
        "      if self.plot_steps:\n",
        "        self.plot()\n",
        "\n",
        "      #update centroids\n",
        "      centroids_old = self.centroids\n",
        "      self.centroids = self.get_centroids(self.clusters)\n",
        "      if self.plot_steps:\n",
        "        selpf.plot()\n",
        "      #check if converged\n",
        "      if self.is_converged(centroids_old, self.centroids):\n",
        "        break\n",
        "    \n",
        "    #return cluster labels\n",
        "    return self.get_cluster_labels(self.clusters)\n",
        "  \n",
        "  def get_cluster_labels(self, clusters):\n",
        "    labels = np.empty(self.n_samples)\n",
        "    for cluster_idx, cluster in enumerate(clusters):\n",
        "      for sample_idx in cluster:\n",
        "        labels[sample_idx] = cluster_idx\n",
        "    return labels\n",
        "\n",
        "  def create_clusters(self, centroids):\n",
        "    clusters = [[] for i in range(self.K)]\n",
        "    for idx, sample in enumerate(self.X):\n",
        "      centroid_idx = self.closest_centroid(sample,centroids)\n",
        "      clusters[centroid_idx].append(idx)\n",
        "    return clusters\n",
        "  \n",
        "  def closest_centroid(self, sample, centroids):\n",
        "    dist = [euclidean_distance(sample, point) for point in centroids]\n",
        "    closest_idx = np.argmin(dist)\n",
        "    return closest_idx\n",
        "  \n",
        "  def get_centroids(self, clusters):\n",
        "    centroids = np.zeros((self.K, self.n_features))\n",
        "    for cluster_idx , cluster in enumerate(clusters):\n",
        "      cluster_mean = np.mean(self.X[cluster], axis = 0)\n",
        "      centroids[cluster_idx] = cluster_mean\n",
        "    return centroids\n",
        "  \n",
        "  def is_converged(self, centroids_old, centroids):\n",
        "    distances = [euclidean_distance(centroids_old[i], centroids[i]) for i in range(self.K)]\n",
        "    return sum(distances) == 0\n",
        "  \n",
        "  def plot(self):\n",
        "    fig, ax = plt.subplots(figsize = (12,8))\n",
        "\n",
        "    for i, index in enumerate(self.clusters):\n",
        "      point = self.X[index].T\n",
        "      ax.scatter(*point)\n",
        "    \n",
        "    for point in self.centroids:\n",
        "      ax.scatter(*point, marker=\"x\", color = \"black\", linewidth = 2)\n",
        "    plt.show()\n",
        "  \n"
      ],
      "metadata": {
        "id": "d80eLytg4EzP"
      },
      "execution_count": null,
      "outputs": []
    },
    {
      "cell_type": "code",
      "source": [
        ""
      ],
      "metadata": {
        "id": "3Hg0Mrdw5GGR"
      },
      "execution_count": null,
      "outputs": []
    },
    {
      "cell_type": "code",
      "source": [
        "data = pd.read_csv(\"/content/drive/MyDrive/cyberlabs/emnist-letters-train.csv\")"
      ],
      "metadata": {
        "id": "_wINbUR74FQ8"
      },
      "execution_count": null,
      "outputs": []
    },
    {
      "cell_type": "code",
      "source": [
        "data = np.array(data)\n",
        "m , n = data.shape  ## n is the number of features and m is the no. of exapmles\n",
        "n = n - 2\n",
        "print(m,n)\n",
        "y = (data[:,n+1:])/100\n",
        "X = (data[:,:n+1])/100\n",
        "z = np.ones((m,1))\n",
        "X = np.concatenate((z,X),axis = 1)\n",
        "print(X.shape,y.shape)"
      ],
      "metadata": {
        "colab": {
          "base_uri": "https://localhost:8080/"
        },
        "id": "aN9b9i484IBD",
        "outputId": "f18c7022-f26f-4479-c341-cb9ff0be1d99"
      },
      "execution_count": null,
      "outputs": [
        {
          "output_type": "stream",
          "name": "stdout",
          "text": [
            "88799 783\n",
            "(88799, 785) (88799, 1)\n"
          ]
        }
      ]
    },
    {
      "cell_type": "code",
      "source": [
        "k = KMeans(K = 26, max_iters=100, plot_steps = False)\n",
        "y_pred = k.train(X)\n",
        "print(k.centroids)\n",
        "#k.plot()"
      ],
      "metadata": {
        "colab": {
          "base_uri": "https://localhost:8080/"
        },
        "id": "cQeuKwz7BT7z",
        "outputId": "9d972a86-c414-4d6d-e581-0fd7e82b383f"
      },
      "execution_count": null,
      "outputs": [
        {
          "output_type": "stream",
          "name": "stdout",
          "text": [
            "[[1.         0.12651083 0.         ... 0.         0.         0.        ]\n",
            " [1.         0.21907504 0.         ... 0.         0.         0.        ]\n",
            " [1.         0.0973184  0.         ... 0.         0.         0.        ]\n",
            " ...\n",
            " [1.         0.09329488 0.         ... 0.         0.         0.        ]\n",
            " [1.         0.16435976 0.         ... 0.         0.         0.        ]\n",
            " [1.         0.15161214 0.         ... 0.         0.         0.        ]]\n"
          ]
        }
      ]
    }
  ]
}